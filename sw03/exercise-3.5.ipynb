{
 "cells": [
  {
   "cell_type": "markdown",
   "metadata": {},
   "source": [
    "Wir gehen davon aus, dass bei der Detektion eines digitalen Signals das Hintergrundrauschen einer Normalverteilung folgt,und zwar mit einem Mittelwert von 0 Voltund einer Standardabweichung von 0.45 Volt. Das System geht davon aus, dass eine digitale 1 übertragen worden ist, wenn die Spannung 0.9 Volt überstiegen worden ist."
   ]
  },
  {
   "cell_type": "code",
   "execution_count": 1,
   "metadata": {},
   "outputs": [],
   "source": [
    "E = 0    # erwartungswert [V]\n",
    "σ = 0.45 # standardabweichung [V]"
   ]
  },
  {
   "cell_type": "markdown",
   "metadata": {},
   "source": [
    "a) Wie gross ist die Wahrscheinlichkeit, dass eine 1 detektiert worden ist, wenn in Wahrheit keine gesendet wurde?  Wie interpretieren Sie diese Wahrscheinlichkeit?"
   ]
  },
  {
   "cell_type": "code",
   "execution_count": 2,
   "metadata": {},
   "outputs": [
    {
     "data": {
      "text/plain": [
       "0.02275013194817921"
      ]
     },
     "execution_count": 2,
     "metadata": {},
     "output_type": "execute_result"
    }
   ],
   "source": [
    "import scipy.stats as st\n",
    "\n",
    "1 - st.norm.cdf(x=0.9, loc=E, scale=σ)"
   ]
  },
  {
   "cell_type": "markdown",
   "metadata": {},
   "source": [
    "b) Bestimmen Sie die symmetrischen Grenzen um 0 Volt, die $99\\%$ des Hintergrundrauschens einschliessen."
   ]
  },
  {
   "cell_type": "code",
   "execution_count": 3,
   "metadata": {},
   "outputs": [
    {
     "data": {
      "text/plain": [
       "1.1591231865970053"
      ]
     },
     "execution_count": 3,
     "metadata": {},
     "output_type": "execute_result"
    }
   ],
   "source": [
    "(st.norm.ppf(q=0.995, loc=E, scale=σ) - st.norm.ppf(q=0.005, loc=E, scale=σ)) / 2"
   ]
  },
  {
   "cell_type": "markdown",
   "metadata": {},
   "source": [
    "c)  Nehmen Sie an, eine digitale 1 wird als eine Verschiebung des Mittelwertes um 1.8 Volt im Vergleich zum Rauschsignal dargestellt.  Die Standardabweichungdes Signals ist ebenfalls 0.45 Volt. Wie gross  ist  die Wahrscheinlichkeit, dass eine digitale 1 nicht detektiert wird?"
   ]
  },
  {
   "cell_type": "code",
   "execution_count": 4,
   "metadata": {},
   "outputs": [
    {
     "data": {
      "text/plain": [
       "0.022750131948179195"
      ]
     },
     "execution_count": 4,
     "metadata": {},
     "output_type": "execute_result"
    }
   ],
   "source": [
    "st.norm.cdf(x=0.9, loc=1.8, scale=σ)"
   ]
  }
 ],
 "metadata": {
  "kernelspec": {
   "display_name": "Python 3",
   "language": "python",
   "name": "python3"
  },
  "language_info": {
   "codemirror_mode": {
    "name": "ipython",
    "version": 3
   },
   "file_extension": ".py",
   "mimetype": "text/x-python",
   "name": "python",
   "nbconvert_exporter": "python",
   "pygments_lexer": "ipython3",
   "version": "3.6.8"
  }
 },
 "nbformat": 4,
 "nbformat_minor": 2
}
