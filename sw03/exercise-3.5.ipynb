{
 "cells": [
  {
   "cell_type": "markdown",
   "metadata": {},
   "source": [
    "Wir gehen davon aus, dass bei der Detektion eines digitalen Signals das Hintergrundrauschen einer Normalverteilung folgt,und zwar mit einem Mittelwert von 0 Voltund einer Standardabweichung von 0.45 Volt. Das System geht davon aus, dass eine digitale 1 übertragen worden ist, wenn die Spannung 0.9 Volt überstiegen worden ist."
   ]
  },
  {
   "cell_type": "markdown",
   "metadata": {},
   "source": [
    "a) Wie gross ist die Wahrscheinlichkeit, dass eine 1 detektiert worden ist, wenn in Wahrheit keine gesendet wurde?  Wie interpretieren Sie diese Wahrscheinlichkeit?"
   ]
  },
  {
   "cell_type": "markdown",
   "metadata": {},
   "source": [
    "b) Bestimmen Sie die symmetrischen Grenzen um 0 Volt, die 99 % des Hintergrundrauschens einschliessen."
   ]
  },
  {
   "cell_type": "markdown",
   "metadata": {},
   "source": [
    "c)  Nehmen Sie an, eine digitale 1 wird als eine Verschiebung des Mittelwertes um 1.8 Volt im Vergleich zum Rauschsignal dargestellt.  Die Standardabweichungdes Signals ist ebenfalls 0.45 Volt. Wie gross  ist  die Wahrscheinlichkeit, dass eine digitale 1 nicht detektiert wird?"
   ]
  }
 ],
 "metadata": {
  "kernelspec": {
   "display_name": "Python 3",
   "language": "python",
   "name": "python3"
  },
  "language_info": {
   "codemirror_mode": {
    "name": "ipython",
    "version": 3
   },
   "file_extension": ".py",
   "mimetype": "text/x-python",
   "name": "python",
   "nbconvert_exporter": "python",
   "pygments_lexer": "ipython3",
   "version": "3.7.4"
  }
 },
 "nbformat": 4,
 "nbformat_minor": 2
}
