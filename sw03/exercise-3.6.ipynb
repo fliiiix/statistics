{
 "cells": [
  {
   "cell_type": "markdown",
   "metadata": {},
   "source": [
    "Der Schaftdurchmesser von optischen Speicherplatten ist normalverteilt mit einem Mittelwert von 0.2508 Millimeter und Standardabweichung 0.0005 Millimeter. Die technischen Angaben des Schafts sind 0.2500±0.0015 Millimeter."
   ]
  },
  {
   "cell_type": "markdown",
   "metadata": {},
   "source": [
    "a) Welcher Anteil der Schaftdurchmesser entspricht den technischen Angaben?"
   ]
  },
  {
   "cell_type": "markdown",
   "metadata": {},
   "source": [
    "b) Die meisten Schaftdurchmesser  sind zu gross,  da der Mittelwert  der Herstellung  sehr  nahe  an  der  oberen  Grenze  der  technischen  Angabe  liegt. Wenn der Herstellungsprozess derart geändert wird, dass der Mittelwert der Schaftdurchmesser nun beim Zielwert von 0.2500 liegt, welcher Anteil entspricht dann den technischen Angaben?"
   ]
  }
 ],
 "metadata": {
  "kernelspec": {
   "display_name": "Python 3",
   "language": "python",
   "name": "python3"
  },
  "language_info": {
   "codemirror_mode": {
    "name": "ipython",
    "version": 3
   },
   "file_extension": ".py",
   "mimetype": "text/x-python",
   "name": "python",
   "nbconvert_exporter": "python",
   "pygments_lexer": "ipython3",
   "version": "3.7.4"
  }
 },
 "nbformat": 4,
 "nbformat_minor": 2
}
