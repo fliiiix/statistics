{
 "cells": [
  {
   "cell_type": "markdown",
   "metadata": {},
   "source": [
    "Der Schaftdurchmesser von optischen Speicherplatten ist normalverteilt mit einem Mittelwert von 0.2508 Millimeter und Standardabweichung 0.0005 Millimeter. Die technischen Angaben des Schafts sind 0.2500±0.0015 Millimeter."
   ]
  },
  {
   "cell_type": "code",
   "execution_count": 1,
   "metadata": {},
   "outputs": [],
   "source": [
    "E = 0.2508 # mm\n",
    "σ = 0.0005 # mm"
   ]
  },
  {
   "cell_type": "markdown",
   "metadata": {},
   "source": [
    "a) Welcher Anteil der Schaftdurchmesser entspricht den technischen Angaben?"
   ]
  },
  {
   "cell_type": "code",
   "execution_count": 2,
   "metadata": {},
   "outputs": [
    {
     "name": "stdout",
     "output_type": "stream",
     "text": [
      "upper limit 0.2515 and lower limit 0.2485\n"
     ]
    },
    {
     "data": {
      "text/plain": [
       "0.91924122831152"
      ]
     },
     "execution_count": 2,
     "metadata": {},
     "output_type": "execute_result"
    }
   ],
   "source": [
    "import scipy.stats as st\n",
    "\n",
    "print(f\"upper limit {0.2500 + 0.0015} and lower limit {0.2500 - 0.0015}\")\n",
    "st.norm.cdf(x=0.2515, loc=E, scale=σ) - st.norm.cdf(x=0.2485, loc=E, scale=σ)"
   ]
  },
  {
   "cell_type": "markdown",
   "metadata": {},
   "source": [
    "b) Die meisten Schaftdurchmesser  sind zu gross,  da der Mittelwert  der Herstellung  sehr  nahe  an  der  oberen  Grenze  der  technischen  Angabe  liegt. Wenn der Herstellungsprozess derart geändert wird, dass der Mittelwert der Schaftdurchmesser nun beim Zielwert von 0.2500 liegt, welcher Anteil entspricht dann den technischen Angaben?"
   ]
  },
  {
   "cell_type": "code",
   "execution_count": 3,
   "metadata": {},
   "outputs": [
    {
     "data": {
      "text/plain": [
       "0.9973002039367398"
      ]
     },
     "execution_count": 3,
     "metadata": {},
     "output_type": "execute_result"
    }
   ],
   "source": [
    "E = 0.25\n",
    "\n",
    "st.norm.cdf(x=0.2515, loc=E, scale=σ) - st.norm.cdf(x=0.2485, loc=E, scale=σ)"
   ]
  }
 ],
 "metadata": {
  "kernelspec": {
   "display_name": "Python 3",
   "language": "python",
   "name": "python3"
  },
  "language_info": {
   "codemirror_mode": {
    "name": "ipython",
    "version": 3
   },
   "file_extension": ".py",
   "mimetype": "text/x-python",
   "name": "python",
   "nbconvert_exporter": "python",
   "pygments_lexer": "ipython3",
   "version": "3.6.8"
  }
 },
 "nbformat": 4,
 "nbformat_minor": 2
}
