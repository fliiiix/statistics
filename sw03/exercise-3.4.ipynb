{
 "cells": [
  {
   "cell_type": "markdown",
   "metadata": {},
   "source": [
    "Aufgrund langjähriger Untersuchungen ist bekannt, dass der Bleigehalt X in einer Bodenprobe annähernd normalverteilt ist. Ausserdem weiss man, dass der Erwartungswert 32 ppb beträgt und dass die Standardabweichung 6 ppb beträgt."
   ]
  },
  {
   "cell_type": "markdown",
   "metadata": {},
   "source": [
    "a) Machen Sie eine Skizze der Dichte von X, und zeichnen Sie die Wahrscheinlichkeit, dass eine Bodenprobe zwischen 26 und 38 ppb Blei enthält, in die Skizze ein."
   ]
  },
  {
   "cell_type": "markdown",
   "metadata": {},
   "source": [
    "b) Wie gross ist die Wahrscheinlichkeit,dass eine Bodenprobe höchstens 40 ppb Schwermetall enthält? Hinweis: Benützen Sie die Python-Funktion: `norm.cdf()` Überprüfen Sie das Resultat, indem Sie die standardisierte Zufallsvariable Z einführen und mit der Standardnormalverteilung die Wahrscheinlichkeit berechnen."
   ]
  },
  {
   "cell_type": "markdown",
   "metadata": {},
   "source": [
    "c) Wie gross ist die Wahrscheinlichkeit, dass eine Bodenprobe höchstens 27 ppb Schwermetall enthält?"
   ]
  },
  {
   "cell_type": "markdown",
   "metadata": {},
   "source": [
    "d) Welcher Bleigehalt wird mit einer Wahrscheinlichkeit von 97.5 % unterschritten? Das heisst, bestimmen Sie dasjenige c, so dass die Wahrscheinlichkeit, dass der Bleigehalt kleiner oder gleich c ist, genau 97.5 % beträgt. Hinweis: Benützen Sie die Python-Funktion: `norm.ppf()`"
   ]
  },
  {
   "cell_type": "markdown",
   "metadata": {},
   "source": [
    "e) Welcher Bleigehalt wird mit einer Wahrscheinlichkeit von 10 % unterschritten?"
   ]
  },
  {
   "cell_type": "markdown",
   "metadata": {},
   "source": [
    "f) Wie gross ist die Wahrscheinlichkeit, die in Aufgabe a) eingezeichnet wurde?"
   ]
  }
 ],
 "metadata": {
  "kernelspec": {
   "display_name": "Python 3",
   "language": "python",
   "name": "python3"
  },
  "language_info": {
   "codemirror_mode": {
    "name": "ipython",
    "version": 3
   },
   "file_extension": ".py",
   "mimetype": "text/x-python",
   "name": "python",
   "nbconvert_exporter": "python",
   "pygments_lexer": "ipython3",
   "version": "3.7.4"
  }
 },
 "nbformat": 4,
 "nbformat_minor": 2
}
