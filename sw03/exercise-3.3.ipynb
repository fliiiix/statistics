{
 "cells": [
  {
   "cell_type": "markdown",
   "metadata": {},
   "source": [
    "Eine Maschine hat eine exponentialverteilte Lebensdauer T1(in Stunden) mit Parameter $\\lambda = 0.04$."
   ]
  },
  {
   "cell_type": "markdown",
   "metadata": {},
   "source": [
    "---\n",
    "a) Berechnen Sie den Median und den Erwartungswert.  Mit welcher Wahrscheinlichkeit überlebt das System seine Lebenserwartung?"
   ]
  },
  {
   "cell_type": "markdown",
   "metadata": {},
   "source": [
    "Der erwartungswert wird berechnet mit:\n",
    "\n",
    "\\begin{align}\n",
    "E(x) = \\frac{1}{\\lambda} = \\frac{1}{0.04} = 25\n",
    "\\end{align}\n",
    "\n",
    "Der median wird berechnet mit:\n",
    "\n",
    "\\begin{align}\n",
    "\\bar{x} = \\frac{ln(2)}{\\lambda} = \\frac{ln(2)}{0.04} = 17.33\n",
    "\\end{align}\n"
   ]
  },
  {
   "cell_type": "code",
   "execution_count": 1,
   "metadata": {},
   "outputs": [
    {
     "data": {
      "text/plain": [
       "(25.0, 17.328679513998633)"
      ]
     },
     "execution_count": 1,
     "metadata": {},
     "output_type": "execute_result"
    }
   ],
   "source": [
    "from math import log\n",
    "\n",
    "𝜆 = 0.04\n",
    "E, median = 1/𝜆, log(2)/𝜆\n",
    "E, median"
   ]
  },
  {
   "cell_type": "markdown",
   "metadata": {},
   "source": [
    "---\n",
    "b) Mit welcher Wahrscheinlichkeit liegt die Lebensdauer des Systems im Bereich E\\[T1\\]±σT1?"
   ]
  },
  {
   "cell_type": "code",
   "execution_count": 2,
   "metadata": {},
   "outputs": [
    {
     "data": {
      "text/plain": [
       "(0.0, 50.0)"
      ]
     },
     "execution_count": 2,
     "metadata": {},
     "output_type": "execute_result"
    }
   ],
   "source": [
    "σ = 1/𝜆  # standardabweichung\n",
    "E-σ, E+σ"
   ]
  },
  {
   "cell_type": "markdown",
   "metadata": {},
   "source": [
    "Mit welcher wahrscheindlichkeit liegt die Lebensdauer im bereich $0 - 50$.\n",
    "\n",
    "Die dichtefunktion (mit $\\lambda = 0.04$) ist gegeben durch:\n",
    "\n",
    "\\begin{align}\n",
    "f(x) = \\lambda\\exp(-\\lambda x) = \\lambda e^{-\\lambda x}\n",
    "\\end{align}\n",
    "\n",
    "Somit ist die wahrscheinlichkeit:\n",
    "\n",
    "\\begin{align}\n",
    "F(x) = \\int_{0}^{50} f(x) dx = \\int_{0}^{50} \\lambda e^{-\\lambda x} dx = -e^{-\\lambda x}\n",
    "\\end{align}"
   ]
  },
  {
   "cell_type": "code",
   "execution_count": 3,
   "metadata": {},
   "outputs": [
    {
     "data": {
      "text/plain": [
       "((0.8646647167633874, 9.599706771317023e-15), 0.8646647167633873)"
      ]
     },
     "execution_count": 3,
     "metadata": {},
     "output_type": "execute_result"
    }
   ],
   "source": [
    "from math import e\n",
    "from scipy.integrate import quad\n",
    "\n",
    "f = lambda x: 𝜆*e**(-𝜆*x)\n",
    "# oder wenn die stmmfunktion bekannt ist\n",
    "F = lambda x: -e**(-𝜆*x)\n",
    "\n",
    "quad(f, a=0, b=50), (F(50) - F(0))"
   ]
  },
  {
   "attachments": {
    "image.png": {
     "image/png": "[encoded data removed]"
    }
   },
   "cell_type": "markdown",
   "metadata": {},
   "source": [
    "---\n",
    "c) Nun betrachten wir eine zweite Maschine mit der Lebensdauer T2 (in Stunden) mit der folgenden Dichte:\n",
    "![image.png](attachment:image.png)\n",
    "Wie gross muss c2 sein?\n",
    "Berechnen Sie den Erwartungswert und die Standardabweichung der Zufallsvariablen T2."
   ]
  },
  {
   "cell_type": "markdown",
   "metadata": {},
   "source": [
    "Annahme exponentiel, somit ist $\\lambda = \\frac{1}{1000}$ und $c_2 = \\lambda$ da die dichtefunktion einer exponentialform:\n",
    "\n",
    "\\begin{align}\n",
    "f(x) = \\lambda \\exp(-\\lambda x)\n",
    "\\end{align}"
   ]
  },
  {
   "cell_type": "markdown",
   "metadata": {},
   "source": [
    "Der Erwartungswert ist nach definition gegeben durch:\n",
    "\n",
    "\\begin{align}\n",
    "E(x) = \\frac{1}{\\lambda} = \\frac{1}{\\frac{1}{1000}} = 1000\n",
    "\\end{align}\n",
    "\n",
    "Ebenso die Standardabweichung:\n",
    "\n",
    "\\begin{align}\n",
    "\\sqrt{\\mathit{Var}} = \\sqrt{\\frac{1}{\\lambda^2}} = \\frac{1}{\\lambda} = \\frac{1}{\\frac{1}{1000}} = 1000\n",
    "\\end{align}"
   ]
  },
  {
   "cell_type": "markdown",
   "metadata": {},
   "source": [
    "---\n",
    "d) Wir betrachten nun das System bestehend aus den beiden Maschinen mit Lebensdauern T1 und T2, welche unabhängig voneinander funktionieren. Berechnen Sie die Wahrscheinlichkeit, dass nach 200 Stunden beide Maschinen noch funktionieren."
   ]
  },
  {
   "cell_type": "markdown",
   "metadata": {},
   "source": [
    "Somit $P_1(x \\geq 200) P_2(x \\geq 200)$"
   ]
  },
  {
   "cell_type": "markdown",
   "metadata": {},
   "source": [
    "Wir erhalten die wahrscheinlichkeit mit der aufleitung der Dichtefunktion von $T_1$:\n",
    "\n",
    "\\begin{align}\n",
    "F(x) = \\int_{0}^{200} f(x) = \\int_{0}^{200} \\lambda e^{-\\lambda x} dx = -e^{-\\lambda x}\n",
    "\\end{align}\n",
    "\n",
    "\n",
    "Wir setzen fuer $\\lambda$ jeweils fuer $T_1\\rvert_{\\lambda=0.04}$ und fuer $T_2\\rvert_{\\lambda=\\frac{1}{100}}$"
   ]
  },
  {
   "cell_type": "code",
   "execution_count": 4,
   "metadata": {},
   "outputs": [
    {
     "data": {
      "text/plain": [
       "0.000274653569972146"
      ]
     },
     "execution_count": 4,
     "metadata": {},
     "output_type": "execute_result"
    }
   ],
   "source": [
    "T_1 = lambda x: -e**(-0.04*x)\n",
    "T_2 = lambda x: -e**(-(1/1000)*x)\n",
    "\n",
    "(1 - (T_1(200) - T_1(0))) * (1 - (T_2(200) - T_2(0)))"
   ]
  }
 ],
 "metadata": {
  "kernelspec": {
   "display_name": "Python 3",
   "language": "python",
   "name": "python3"
  },
  "language_info": {
   "codemirror_mode": {
    "name": "ipython",
    "version": 3
   },
   "file_extension": ".py",
   "mimetype": "text/x-python",
   "name": "python",
   "nbconvert_exporter": "python",
   "pygments_lexer": "ipython3",
   "version": "3.6.8"
  }
 },
 "nbformat": 4,
 "nbformat_minor": 2
}
